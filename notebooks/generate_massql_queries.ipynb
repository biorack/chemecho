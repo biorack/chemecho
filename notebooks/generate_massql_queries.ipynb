{
 "cells": [
  {
   "cell_type": "markdown",
   "id": "a088721f",
   "metadata": {},
   "source": [
    "# Train Decision Trees & Convert to MassQL Queries"
   ]
  },
  {
   "cell_type": "markdown",
   "id": "30a68050",
   "metadata": {},
   "source": [
    "## Initial Setup"
   ]
  },
  {
   "cell_type": "code",
   "execution_count": null,
   "id": "22f8b0b0-fada-4601-a8b3-5a3ae6cea07c",
   "metadata": {},
   "outputs": [],
   "source": [
    "import os\n",
    "import pickle\n",
    "import json\n",
    "import pandas as pd\n",
    "from rdkit.Chem import AllChem\n",
    "from tqdm.auto import tqdm\n",
    "\n",
    "tqdm.pandas()\n",
    "\n",
    "from chemecho.utils import load_processed_gnps_data, merge_in_nist\n",
    "from chemecho.featurization import subformula_featurization, build_feature_matrix, feature_reduction, save_featurized_spectra, load_featurized_spectra\n",
    "from chemecho.train_predict import filter_failed_idxs, train_substructure_tree, convert_tree_to_massql"
   ]
  },
  {
   "cell_type": "code",
   "execution_count": null,
   "id": "1c3c35ab",
   "metadata": {},
   "outputs": [],
   "source": [
    "polarity = 'negative' # either 'negative' or 'positive'\n",
    "workdir = '/pscratch/sd/t/tharwood/massql_constructor' # storage location for feature matrices, MS2 libraries, etc.\n",
    "\n",
    "vector_assignment_method = 'blur' # either 'blur' or 'top'. blur assigns all subformula within tolerance, top takes only the best one\n",
    "max_ppm_error = 10 # max ppm error of the subformula assignment\n",
    "min_feature_occurence = 6 # minimum number of feature occurences to keep"
   ]
  },
  {
   "cell_type": "markdown",
   "id": "9d1f5c0d",
   "metadata": {},
   "source": [
    "## Build Training Feature Matrix"
   ]
  },
  {
   "cell_type": "code",
   "execution_count": null,
   "id": "4cffdbca",
   "metadata": {},
   "outputs": [],
   "source": [
    "gnps_cleaned = load_processed_gnps_data(gnps_cleaned_path=f'{workdir}/gnps_cleaned.tsv', convert_spectra=True, polarity=polarity)\n",
    "merged_lib = merge_in_nist(gnps_cleaned, nist_cleaned_path=f'{workdir}/nist_cleaned.tsv', convert_spectra=True, polarity=polarity)"
   ]
  },
  {
   "cell_type": "code",
   "execution_count": null,
   "id": "4594e9c0",
   "metadata": {},
   "outputs": [],
   "source": [
    "peak_subformula_vectors, nl_subformula_vectors = subformula_featurization(merged_lib, \n",
    "                                                                          vector_assignment=vector_assignment_method, \n",
    "                                                                          max_ppm_error=max_ppm_error)"
   ]
  },
  {
   "cell_type": "code",
   "execution_count": null,
   "id": "4f772e99",
   "metadata": {},
   "outputs": [],
   "source": [
    "# get indices of spectra with no subformula assigned\n",
    "failed_spectra_idxs = [i for i in range(len(peak_subformula_vectors)) if peak_subformula_vectors[i] is None]"
   ]
  },
  {
   "cell_type": "code",
   "execution_count": null,
   "id": "57710027",
   "metadata": {},
   "outputs": [],
   "source": [
    "featurized_spectral_data, feature_vector_index_map = build_feature_matrix(peak_subformula_vectors, nl_subformula_vectors)"
   ]
  },
  {
   "cell_type": "code",
   "execution_count": null,
   "id": "d0df6c69",
   "metadata": {},
   "outputs": [],
   "source": [
    "featurized_spectral_data, feature_vector_index_map = feature_reduction(featurized_spectral_data, feature_vector_index_map, \n",
    "                                                                       min_occurence=min_feature_occurence)"
   ]
  },
  {
   "cell_type": "code",
   "execution_count": null,
   "id": "109be0f3",
   "metadata": {},
   "outputs": [],
   "source": [
    "# save embeddings\n",
    "save_featurized_spectra(featurized_spectral_data, feature_vector_index_map, failed_spectra_idxs, workdir, \n",
    "                        overwrite=False,\n",
    "                        polarity=polarity)"
   ]
  },
  {
   "cell_type": "markdown",
   "id": "f6de4036",
   "metadata": {},
   "source": [
    "## Load Featurized MS2 Data"
   ]
  },
  {
   "cell_type": "code",
   "execution_count": null,
   "id": "c37fcffd",
   "metadata": {},
   "outputs": [],
   "source": [
    "# load embeddings\n",
    "featurized_spectral_data, feature_vector_index_map, failed_spectra_idxs = load_featurized_spectra(workdir, polarity=polarity)"
   ]
  },
  {
   "cell_type": "markdown",
   "id": "f0de8560-a864-4ded-93a7-4504bafa92d9",
   "metadata": {},
   "source": [
    "## Load Substructure Definitions"
   ]
  },
  {
   "cell_type": "code",
   "execution_count": null,
   "id": "d315ed8b-d9c1-43ab-889b-5b1772336e3a",
   "metadata": {},
   "outputs": [],
   "source": [
    "# substructures were generated using group selfies\n",
    "with open(f'{workdir}/{polarity}_grammar_fragment.pkl', 'rb') as handle:\n",
    "    grammar_fragment = pickle.load(handle)"
   ]
  },
  {
   "cell_type": "code",
   "execution_count": null,
   "id": "8768a2d8-35cc-4d3b-a9a5-39d42afcbd96",
   "metadata": {},
   "outputs": [],
   "source": [
    "def encode_substructure(smiles):\n",
    "    mol = AllChem.MolFromSmiles(smiles)\n",
    "    \n",
    "    groups = grammar_fragment.extract_groups(mol)\n",
    "    encoded_selfie = grammar_fragment.encoder(mol, groups)\n",
    "\n",
    "    return encoded_selfie"
   ]
  },
  {
   "cell_type": "code",
   "execution_count": null,
   "id": "48d8041e-348f-4e03-9a91-a35024d8629b",
   "metadata": {},
   "outputs": [],
   "source": [
    "merged_lib['frag_encoded_selfie'] = merged_lib.smiles.progress_apply(encode_substructure)"
   ]
  },
  {
   "cell_type": "code",
   "execution_count": null,
   "id": "86b78c33-9568-4eee-b9a1-ba7edae3a2ad",
   "metadata": {},
   "outputs": [],
   "source": [
    "merged_lib[['smiles', 'frag_encoded_selfie']].to_csv(f'{workdir}/{polarity}_frag_encoded_selfies.csv')"
   ]
  },
  {
   "cell_type": "code",
   "execution_count": null,
   "id": "94394064-ffbf-4db9-b90d-966431120cf1",
   "metadata": {},
   "outputs": [],
   "source": [
    "# load pre encoded selfies\n",
    "encoded_selfies = pd.read_csv(f'{workdir}/{polarity}_frag_encoded_selfies.csv')\n",
    "merged_lib = pd.concat([merged_lib, encoded_selfies.frag_encoded_selfie], axis=1)"
   ]
  },
  {
   "cell_type": "markdown",
   "id": "24f77f3c",
   "metadata": {},
   "source": [
    "## Train Decision Trees to Predict Substructures"
   ]
  },
  {
   "cell_type": "code",
   "execution_count": null,
   "id": "ddd033b5-b271-464b-bccf-c96f3eb50df9",
   "metadata": {},
   "outputs": [],
   "source": [
    "min_positive_unique = 10  # minimum number of unique structures for training\n",
    "min_frag_count = 1 # minimum number of substrucutres present in molecule to be labeled a positive sample\n",
    "\n",
    "frags = list(grammar_fragment.vocab.keys())"
   ]
  },
  {
   "cell_type": "code",
   "execution_count": null,
   "id": "22fb0cd8-1795-46e0-b4c3-c27c56db834b",
   "metadata": {},
   "outputs": [],
   "source": [
    "# remove spectra which failed vectorization\n",
    "filtered_spectra_data, filtered_merged_lib = filter_failed_idxs(featurized_spectral_data, merged_lib, failed_spectra_idxs)"
   ]
  },
  {
   "cell_type": "code",
   "execution_count": null,
   "id": "4b6d3b11-e93d-4e6d-a191-f1fdd236a6ab",
   "metadata": {
    "scrolled": true
   },
   "outputs": [],
   "source": [
    "# train model for each group selfie frag\n",
    "# for single core:\n",
    "for frag in frags:\n",
    "    train_substructure_tree(frag, merged_lib, featurized_spectral_data, workdir, polarity,\n",
    "                            frag_type='group_selfies',\n",
    "                            max_depth=3,\n",
    "                            min_frag_count=1,\n",
    "                            min_positive_unique=10,\n",
    "                            save_model=True)"
   ]
  },
  {
   "cell_type": "code",
   "execution_count": null,
   "id": "4d5cb278",
   "metadata": {},
   "outputs": [],
   "source": [
    "# for multicore:\n",
    "from concurrent.futures import ProcessPoolExecutor\n",
    "\n",
    "# simple wrapper function\n",
    "def multicore_substructure_tree(frag):\n",
    "    train_substructure_tree(\n",
    "        frag, \n",
    "        merged_lib, \n",
    "        featurized_spectral_data, \n",
    "        workdir, \n",
    "        polarity,\n",
    "        frag_type='group_selfies',\n",
    "        max_depth=3,\n",
    "        min_frag_count=1,\n",
    "        min_positive_unique=10,\n",
    "        save_model=True\n",
    "    )\n",
    "\n",
    "with ProcessPoolExecutor(max_workers=16) as executor:\n",
    "    executor.map(multicore_substructure_tree, frags)"
   ]
  },
  {
   "cell_type": "code",
   "execution_count": null,
   "id": "805405e4-80cd-4c3b-a880-e4c6ca2810c4",
   "metadata": {},
   "outputs": [],
   "source": [
    "# evaluate the success of the model training\n",
    "model_reports = []\n",
    "for frag in frags:\n",
    "    if os.path.isfile(f\"{workdir}/models/{polarity}_{frag}_report.json\"):\n",
    "        with open(f\"{workdir}/models/{polarity}_{frag}_report.json\", \"r\") as f:\n",
    "            json_report = json.load(f)\n",
    "            model_reports.append({'frag': frag, 'false_precision': json_report['False']['precision'], 'false_recall': json_report['False']['recall'], 'false_f1': json_report['False']['f1-score'],\n",
    "                                'true_precision': json_report['True']['precision'], 'true_recall': json_report['True']['recall'], 'true_f1': json_report['True']['f1-score'],\n",
    "                                'macro_avg_f1': json_report['macro avg']['f1-score'], 'pos_smiles': json_report['pos_smiles']})"
   ]
  },
  {
   "cell_type": "code",
   "execution_count": null,
   "id": "06fcaaec-ab20-4ddb-bf5d-c9af70321999",
   "metadata": {},
   "outputs": [],
   "source": [
    "model_reports = pd.DataFrame(model_reports)\n",
    "model_reports.sort_values('true_precision', ascending=False).head(5)"
   ]
  },
  {
   "cell_type": "markdown",
   "id": "0eab0b67-1675-4aca-99f5-9c22265338ea",
   "metadata": {},
   "source": [
    "## Convert Decision Trees into MassQL Queries\n",
    "\n",
    "### get best performing models based on use case\n",
    "- high precision, low recall means few hits with high confidence\n",
    "- low precision, high recall means lots of hits with low confidence\n",
    "- depending on use case, either could be preferred. Note, this is a simplified explanation, but should hopefully demonstrate the general idea."
   ]
  },
  {
   "cell_type": "code",
   "execution_count": null,
   "id": "46bd822c-34a8-4752-8029-e99e2379558f",
   "metadata": {},
   "outputs": [],
   "source": [
    "ms2_tol_ppm = 5\n",
    "\n",
    "top_frags = model_reports.sort_values('true_precision', ascending=False).head(5).frag.tolist()"
   ]
  },
  {
   "cell_type": "code",
   "execution_count": null,
   "id": "721ee08f-62c4-4487-92f9-156d806a6edc",
   "metadata": {},
   "outputs": [],
   "source": [
    "import joblib\n",
    "\n",
    "feature_labels = list(feature_vector_index_map.keys())\n",
    "\n",
    "massql_queries = dict()\n",
    "for frag in frags:\n",
    "    if frag not in top_frags:\n",
    "        continue\n",
    "\n",
    "    frag_model_path = f\"{workdir}/models/{polarity}_{frag}_model.joblib\"\n",
    "    if os.path.isfile(frag_model_path):\n",
    "        frag_model = joblib.load(frag_model_path)\n",
    "\n",
    "    massql_queries[frag] = convert_tree_to_massql(frag_model, feature_labels, tolerance=ms2_tol_ppm)"
   ]
  },
  {
   "cell_type": "code",
   "execution_count": null,
   "id": "84e6df26-290a-401b-9dad-52c42f2eac0c",
   "metadata": {},
   "outputs": [],
   "source": [
    "# example query for frag24\n",
    "display(grammar_fragment.vocab['frag24'].mol)\n",
    "\n",
    "massql_queries['frag24'].split(' ||| ')[0]"
   ]
  },
  {
   "cell_type": "markdown",
   "id": "f290fe51-944e-423c-b64b-503d109e1cc9",
   "metadata": {},
   "source": [
    "## Evaluate and Refine MassQL Queries"
   ]
  },
  {
   "cell_type": "code",
   "execution_count": null,
   "id": "5f4e2ff7-c46d-47c7-97a9-412d6daac052",
   "metadata": {},
   "outputs": [],
   "source": [
    "from massql import msql_engine\n",
    "from massql import msql_fileloading"
   ]
  },
  {
   "cell_type": "code",
   "execution_count": null,
   "id": "db2b00a5-3cef-4f82-a35f-5c8734c0f105",
   "metadata": {},
   "outputs": [],
   "source": [
    "gnps_json_lib_path = f'{workdir}/{polarity}_merged_lib.json'"
   ]
  },
  {
   "cell_type": "code",
   "execution_count": null,
   "id": "217585a2-4114-4504-995c-b0928eb365eb",
   "metadata": {},
   "outputs": [],
   "source": [
    "def numpy_spec_to_json(spec):\n",
    "    peak_pairs = list(zip(spec[0], spec[1]))\n",
    "    peak_pairs = [(float(mz), int(i)) for mz, i in peak_pairs]\n",
    "\n",
    "    json_peak_pairs = json.dumps(peak_pairs)\n",
    "    return json_peak_pairs\n",
    "\n",
    "if not os.path.isfile(gnps_json_lib_path):\n",
    "    merged_lib['peaks_json'] = merged_lib.spectrum.apply(numpy_spec_to_json)\n",
    "    merged_lib.rename(columns={'precursor_mz': 'Precursor_MZ'})[['spectrum_id', 'Precursor_MZ', 'peaks_json']].to_json(gnps_json_lib_path, orient='records')"
   ]
  },
  {
   "cell_type": "code",
   "execution_count": null,
   "id": "24cf46f3-d719-4d0a-b425-bc0f225069be",
   "metadata": {},
   "outputs": [],
   "source": [
    "# Loading Data\n",
    "ms1_df, ms2_df = msql_fileloading.load_data(gnps_json_lib_path)\n",
    "\n",
    "if polarity == 'negative':\n",
    "    ms1_df['polarity'] = 2\n",
    "    ms2_df['polarity'] = 2"
   ]
  },
  {
   "cell_type": "code",
   "execution_count": null,
   "id": "221c7b54-01ff-4974-acd9-162ebf309e30",
   "metadata": {},
   "outputs": [],
   "source": [
    "# testing queries\n",
    "test_query = massql_queries['frag24'].split(' ||| ')[0]\n",
    "\n",
    "results_df = msql_engine.process_query(test_query, gnps_json_lib_path, ms1_df=ms1_df, ms2_df=ms2_df)"
   ]
  },
  {
   "cell_type": "code",
   "execution_count": null,
   "id": "75b1419e-1e62-444c-b2d3-b3ee97faf924",
   "metadata": {},
   "outputs": [],
   "source": [
    "unique_matched_smiles = set(merged_lib[merged_lib.spectrum_id.isin(results_df.scan)].smiles.tolist())\n",
    "\n",
    "max_i = 40\n",
    "for i, smiles in enumerate(unique_matched_smiles):\n",
    "    print('----------------------------------------')\n",
    "    mol = AllChem.MolFromSmiles(smiles)\n",
    "\n",
    "    display(mol)\n",
    "    if i >= max_i:\n",
    "        break"
   ]
  },
  {
   "cell_type": "code",
   "execution_count": null,
   "id": "20831341",
   "metadata": {},
   "outputs": [],
   "source": []
  }
 ],
 "metadata": {
  "kernelspec": {
   "display_name": "Formula Featurization",
   "language": "python",
   "name": "form_feat"
  },
  "language_info": {
   "codemirror_mode": {
    "name": "ipython",
    "version": 3
   },
   "file_extension": ".py",
   "mimetype": "text/x-python",
   "name": "python",
   "nbconvert_exporter": "python",
   "pygments_lexer": "ipython3",
   "version": "3.12.8"
  }
 },
 "nbformat": 4,
 "nbformat_minor": 5
}
