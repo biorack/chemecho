{
 "cells": [
  {
   "cell_type": "markdown",
   "id": "a088721f",
   "metadata": {},
   "source": [
    "# ChemEcho Tutorial Notebook"
   ]
  },
  {
   "cell_type": "markdown",
   "id": "30a68050",
   "metadata": {},
   "source": [
    "## Initial Setup"
   ]
  },
  {
   "cell_type": "code",
   "execution_count": null,
   "id": "b5ca6f83",
   "metadata": {},
   "outputs": [],
   "source": [
    "# install chemecho\n",
    "! pip uninstall -y chemecho\n",
    "! pip install git+file:///global/homes/t/tharwood/repos/chemecho/"
   ]
  },
  {
   "cell_type": "code",
   "execution_count": null,
   "id": "22f8b0b0-fada-4601-a8b3-5a3ae6cea07c",
   "metadata": {},
   "outputs": [],
   "source": [
    "# imports\n",
    "from chemecho.utils import load_processed_gnps_data, merge_in_nist\n",
    "from chemecho.featurization import subformula_featurization, build_feature_matrix, feature_reduction, save_featurized_spectra, load_featurized_spectra, vectorize_spectrum"
   ]
  },
  {
   "cell_type": "code",
   "execution_count": null,
   "id": "1c3c35ab",
   "metadata": {},
   "outputs": [],
   "source": [
    "polarity = 'negative' # either 'negative' or 'positive'\n",
    "workdir = '/pscratch/sd/t/tharwood/chemecho_tutorial' # storage location for feature matrices, MS2 libraries, etc.\n",
    "\n",
    "# embedding parameters\n",
    "vector_assignment_method = 'blur' # either 'blur' or 'top'. blur assigns all subformula within tolerance, top takes only the best one\n",
    "max_ppm_error = 5 # max ppm error of the subformula assignment\n",
    "min_feature_occurence = 6 # minimum number of feature occurences to keep"
   ]
  },
  {
   "cell_type": "markdown",
   "id": "9d1f5c0d",
   "metadata": {},
   "source": [
    "## Download & Process MS2 Training Data (Libraries)"
   ]
  },
  {
   "cell_type": "code",
   "execution_count": null,
   "id": "4cffdbca",
   "metadata": {},
   "outputs": [],
   "source": [
    "gnps_cleaned = load_processed_gnps_data(gnps_cleaned_path=f'{workdir}/gnps_cleaned.tsv', convert_spectra=True, polarity=polarity)\n",
    "\n",
    "# If you have access to commercial NIST library:\n",
    "merged_lib = merge_in_nist(gnps_cleaned, nist_cleaned_path=f'{workdir}/nist_cleaned.tsv', convert_spectra=True, polarity=polarity)\n",
    "\n",
    "# if not\n",
    "# merged_lib = gnps_cleaned"
   ]
  },
  {
   "cell_type": "code",
   "execution_count": null,
   "id": "ad4c4c54",
   "metadata": {},
   "outputs": [],
   "source": [
    "print(f\"Total spectra: {merged_lib.shape[0]}\")\n",
    "print(f\"Unique InchiKeys: {len(merged_lib.inchikey_smiles.unique())}\")"
   ]
  },
  {
   "cell_type": "markdown",
   "id": "f6de4036",
   "metadata": {},
   "source": [
    "## Build Training Data Feature Matrix"
   ]
  },
  {
   "cell_type": "code",
   "execution_count": null,
   "id": "276b460b",
   "metadata": {},
   "outputs": [],
   "source": [
    "peak_subformula_vectors, nl_subformula_vectors = subformula_featurization(merged_lib, \n",
    "                                                                          vector_assignment=vector_assignment_method, \n",
    "                                                                          max_ppm_error=max_ppm_error)"
   ]
  },
  {
   "cell_type": "code",
   "execution_count": null,
   "id": "b4105376",
   "metadata": {},
   "outputs": [],
   "source": [
    "# get indices of spectra with no subformula assigned\n",
    "failed_spectra_idxs = [i for i in range(len(peak_subformula_vectors)) if peak_subformula_vectors[i] is None]"
   ]
  },
  {
   "cell_type": "code",
   "execution_count": null,
   "id": "3478d080",
   "metadata": {},
   "outputs": [],
   "source": [
    "featurized_spectral_data, feature_vector_index_map = build_feature_matrix(peak_subformula_vectors, nl_subformula_vectors)"
   ]
  },
  {
   "cell_type": "code",
   "execution_count": null,
   "id": "43e05086",
   "metadata": {},
   "outputs": [],
   "source": [
    "featurized_spectral_data, feature_vector_index_map = feature_reduction(featurized_spectral_data, feature_vector_index_map, \n",
    "                                                                       min_occurence=min_feature_occurence)"
   ]
  },
  {
   "cell_type": "code",
   "execution_count": null,
   "id": "3d199719",
   "metadata": {},
   "outputs": [],
   "source": [
    "# save embeddings\n",
    "save_featurized_spectra(featurized_spectral_data, feature_vector_index_map, failed_spectra_idxs, workdir, \n",
    "                        overwrite=False,\n",
    "                        polarity=polarity)"
   ]
  },
  {
   "cell_type": "markdown",
   "id": "24f77f3c",
   "metadata": {},
   "source": [
    "## Label Data and Train Model"
   ]
  },
  {
   "cell_type": "code",
   "execution_count": null,
   "id": "4058c332",
   "metadata": {},
   "outputs": [],
   "source": [
    "from chemecho.train_predict import train_substructure_tree, filter_failed_idxs"
   ]
  },
  {
   "cell_type": "code",
   "execution_count": null,
   "id": "c37fcffd",
   "metadata": {},
   "outputs": [],
   "source": [
    "# load embeddings\n",
    "featurized_spectral_data, feature_vector_index_map, failed_spectra_idxs = load_featurized_spectra(workdir, polarity=polarity)"
   ]
  },
  {
   "cell_type": "code",
   "execution_count": null,
   "id": "af9411e5",
   "metadata": {},
   "outputs": [],
   "source": [
    "# filter failed spectra\n",
    "filtered_spectral_data, filtered_merged_lib = filter_failed_idxs(featurized_spectral_data, merged_lib, failed_spectra_idxs)"
   ]
  },
  {
   "cell_type": "code",
   "execution_count": null,
   "id": "9146b690",
   "metadata": {},
   "outputs": [],
   "source": [
    "# simplistic example for training a model for predicting glucose-derivatives\n",
    "hexose_smarts = 'OCC1OC(O)C(O)C(O)C1O'\n",
    "\n",
    "model, report = train_substructure_tree(hexose_smarts, filtered_merged_lib, filtered_spectral_data, workdir, polarity,\n",
    "                                        frag_type='smarts',\n",
    "                                        max_depth=16,\n",
    "                                        min_frag_count=1,\n",
    "                                        min_positive_unique=10,\n",
    "                                        save_model=True)"
   ]
  },
  {
   "cell_type": "code",
   "execution_count": null,
   "id": "2da68f95",
   "metadata": {},
   "outputs": [],
   "source": [
    "print(report)"
   ]
  },
  {
   "cell_type": "markdown",
   "id": "cf1c99dc",
   "metadata": {},
   "source": [
    "## Predict From New Spectra"
   ]
  },
  {
   "cell_type": "code",
   "execution_count": null,
   "id": "3e500ed9",
   "metadata": {},
   "outputs": [],
   "source": [
    "import numpy as np"
   ]
  },
  {
   "cell_type": "code",
   "execution_count": null,
   "id": "bbb7adfd",
   "metadata": {},
   "outputs": [],
   "source": [
    "molecule1 = \"Glucuronic acid\"\n",
    "parent_form1 = 'C6H10O7' # in real cases predicted with SIRIUS/MSBuddy\n",
    "adduct1 = '[M-H]-' # in real cases either assumed (resulting in predictive penalty) or predicted/empirically determined\n",
    "precursor_mz1 = 193.035\n",
    "spectrum1 = np.array([[51.709801,\n",
    "  57.034199,\n",
    "  59.013401,\n",
    "  71.013603,\n",
    "  71.408501,\n",
    "  72.992897,\n",
    "  73.029297,\n",
    "  73.972702,\n",
    "  75.008499,\n",
    "  83.013702,\n",
    "  85.029404,\n",
    "  85.035004,\n",
    "  87.008698,\n",
    "  89.0243,\n",
    "  95.013802,\n",
    "  99.009003,\n",
    "  101.024002,\n",
    "  103.003998,\n",
    "  113.014999,\n",
    "  113.024002,\n",
    "  116.607002,\n",
    "  129.020004,\n",
    "  131.035004,\n",
    "  133.014008,\n",
    "  157.014999,\n",
    "  163.024994,\n",
    "  193.035004],\n",
    " [55178.199219,\n",
    "  229171.0,\n",
    "  2067150.0,\n",
    "  2229370.0,\n",
    "  59995.300781,\n",
    "  5109200.0,\n",
    "  1023610.0,\n",
    "  94215.898438,\n",
    "  87368.898438,\n",
    "  106567.0,\n",
    "  2388860.0,\n",
    "  118491.0,\n",
    "  91278.398438,\n",
    "  1230700.0,\n",
    "  467406.0,\n",
    "  246487.0,\n",
    "  1734100.0,\n",
    "  1689690.0,\n",
    "  144557.0,\n",
    "  4421380.0,\n",
    "  65680.796875,\n",
    "  248136.0,\n",
    "  568488.0,\n",
    "  382782.0,\n",
    "  295386.0,\n",
    "  107466.0,\n",
    "  836176.0]])"
   ]
  },
  {
   "cell_type": "code",
   "execution_count": null,
   "id": "948d348c",
   "metadata": {},
   "outputs": [],
   "source": [
    "ms2_vector = vectorize_spectrum(spectrum1,\n",
    "                                precursor_mz1,\n",
    "                                parent_form1,\n",
    "                                adduct1,\n",
    "                                feature_vector_index_map,\n",
    "                                max_ppm_error=5,\n",
    "                                vector_assignment='blur')"
   ]
  },
  {
   "cell_type": "code",
   "execution_count": null,
   "id": "ed8ee639",
   "metadata": {},
   "outputs": [],
   "source": [
    "test_pred = model.predict(ms2_vector)"
   ]
  },
  {
   "cell_type": "code",
   "execution_count": null,
   "id": "dff03d92",
   "metadata": {},
   "outputs": [],
   "source": [
    "test_pred"
   ]
  },
  {
   "cell_type": "code",
   "execution_count": null,
   "id": "30243bdf",
   "metadata": {},
   "outputs": [],
   "source": []
  }
 ],
 "metadata": {
  "kernelspec": {
   "display_name": "Formula Featurization",
   "language": "python",
   "name": "form_feat"
  },
  "language_info": {
   "codemirror_mode": {
    "name": "ipython",
    "version": 3
   },
   "file_extension": ".py",
   "mimetype": "text/x-python",
   "name": "python",
   "nbconvert_exporter": "python",
   "pygments_lexer": "ipython3",
   "version": "3.12.8"
  }
 },
 "nbformat": 4,
 "nbformat_minor": 5
}
