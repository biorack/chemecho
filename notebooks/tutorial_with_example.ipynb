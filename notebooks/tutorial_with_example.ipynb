{
 "cells": [
  {
   "cell_type": "markdown",
   "id": "a088721f",
   "metadata": {},
   "source": [
    "# ChemEcho Tutorial Notebook"
   ]
  },
  {
   "cell_type": "markdown",
   "id": "30a68050",
   "metadata": {},
   "source": [
    "## Initial Setup"
   ]
  },
  {
   "cell_type": "code",
   "execution_count": null,
   "id": "b5ca6f83",
   "metadata": {},
   "outputs": [
    {
     "name": "stdout",
     "output_type": "stream",
     "text": [
      "Collecting git+file:/global/homes/t/tharwood/repos/chemecho\n",
      "  Cloning file:///global/homes/t/tharwood/repos/chemecho to /tmp/pip-req-build-t3kly6oi\n",
      "  Running command git clone --filter=blob:none --quiet file:///global/homes/t/tharwood/repos/chemecho /tmp/pip-req-build-t3kly6oi\n",
      "  warning: filtering not recognized by server, ignoring\n",
      "  Resolved file:///global/homes/t/tharwood/repos/chemecho to commit 44c12041b834529032f1964e8f4b68778c595921\n",
      "  Preparing metadata (setup.py) ... \u001b[?25ldone\n",
      "\u001b[?25hRequirement already satisfied: numpy in /global/homes/t/tharwood/.conda/envs/form_feat/lib/python3.12/site-packages (from chemecho==0.0.0) (2.1.3)\n",
      "Requirement already satisfied: pandas in /global/homes/t/tharwood/.conda/envs/form_feat/lib/python3.12/site-packages (from chemecho==0.0.0) (2.2.3)\n",
      "Requirement already satisfied: scipy in /global/homes/t/tharwood/.conda/envs/form_feat/lib/python3.12/site-packages (from chemecho==0.0.0) (1.15.1)\n",
      "Requirement already satisfied: rdkit in /global/homes/t/tharwood/.conda/envs/form_feat/lib/python3.12/site-packages (from chemecho==0.0.0) (2024.9.5)\n",
      "Requirement already satisfied: tqdm in /global/homes/t/tharwood/.conda/envs/form_feat/lib/python3.12/site-packages (from chemecho==0.0.0) (4.67.1)\n",
      "Requirement already satisfied: msbuddy in /global/homes/t/tharwood/.conda/envs/form_feat/lib/python3.12/site-packages (from chemecho==0.0.0) (0.3.10)\n",
      "Requirement already satisfied: brain-isotopic-distribution in /global/homes/t/tharwood/.conda/envs/form_feat/lib/python3.12/site-packages (from msbuddy->chemecho==0.0.0) (1.5.17)\n",
      "Requirement already satisfied: numba in /global/homes/t/tharwood/.conda/envs/form_feat/lib/python3.12/site-packages (from msbuddy->chemecho==0.0.0) (0.61.0)\n",
      "Requirement already satisfied: requests in /global/homes/t/tharwood/.conda/envs/form_feat/lib/python3.12/site-packages (from msbuddy->chemecho==0.0.0) (2.32.3)\n",
      "Requirement already satisfied: joblib in /global/homes/t/tharwood/.conda/envs/form_feat/lib/python3.12/site-packages (from msbuddy->chemecho==0.0.0) (1.4.2)\n",
      "Requirement already satisfied: gdown in /global/homes/t/tharwood/.conda/envs/form_feat/lib/python3.12/site-packages (from msbuddy->chemecho==0.0.0) (5.2.0)\n",
      "Requirement already satisfied: chemparse in /global/homes/t/tharwood/.conda/envs/form_feat/lib/python3.12/site-packages (from msbuddy->chemecho==0.0.0) (0.3.1)\n",
      "Requirement already satisfied: python-dateutil>=2.8.2 in /global/homes/t/tharwood/.conda/envs/form_feat/lib/python3.12/site-packages (from pandas->chemecho==0.0.0) (2.9.0.post0)\n",
      "Requirement already satisfied: pytz>=2020.1 in /global/homes/t/tharwood/.conda/envs/form_feat/lib/python3.12/site-packages (from pandas->chemecho==0.0.0) (2024.1)\n",
      "Requirement already satisfied: tzdata>=2022.7 in /global/homes/t/tharwood/.conda/envs/form_feat/lib/python3.12/site-packages (from pandas->chemecho==0.0.0) (2025.1)\n",
      "Requirement already satisfied: six>=1.5 in /global/homes/t/tharwood/.conda/envs/form_feat/lib/python3.12/site-packages (from python-dateutil>=2.8.2->pandas->chemecho==0.0.0) (1.17.0)\n",
      "Requirement already satisfied: beautifulsoup4 in /global/homes/t/tharwood/.conda/envs/form_feat/lib/python3.12/site-packages (from gdown->msbuddy->chemecho==0.0.0) (4.13.1)\n",
      "Requirement already satisfied: filelock in /global/homes/t/tharwood/.conda/envs/form_feat/lib/python3.12/site-packages (from gdown->msbuddy->chemecho==0.0.0) (3.17.0)\n",
      "Requirement already satisfied: llvmlite<0.45,>=0.44.0dev0 in /global/homes/t/tharwood/.conda/envs/form_feat/lib/python3.12/site-packages (from numba->msbuddy->chemecho==0.0.0) (0.44.0)\n",
      "Requirement already satisfied: charset_normalizer<4,>=2 in /global/homes/t/tharwood/.conda/envs/form_feat/lib/python3.12/site-packages (from requests->msbuddy->chemecho==0.0.0) (3.4.1)\n",
      "Requirement already satisfied: idna<4,>=2.5 in /global/homes/t/tharwood/.conda/envs/form_feat/lib/python3.12/site-packages (from requests->msbuddy->chemecho==0.0.0) (3.10)\n",
      "Requirement already satisfied: urllib3<3,>=1.21.1 in /global/homes/t/tharwood/.conda/envs/form_feat/lib/python3.12/site-packages (from requests->msbuddy->chemecho==0.0.0) (2.3.0)\n",
      "Requirement already satisfied: certifi>=2017.4.17 in /global/homes/t/tharwood/.conda/envs/form_feat/lib/python3.12/site-packages (from requests->msbuddy->chemecho==0.0.0) (2025.1.31)\n",
      "Requirement already satisfied: soupsieve>1.2 in /global/homes/t/tharwood/.conda/envs/form_feat/lib/python3.12/site-packages (from beautifulsoup4->gdown->msbuddy->chemecho==0.0.0) (2.6)\n",
      "Requirement already satisfied: typing-extensions>=4.0.0 in /global/homes/t/tharwood/.conda/envs/form_feat/lib/python3.12/site-packages (from beautifulsoup4->gdown->msbuddy->chemecho==0.0.0) (4.12.2)\n",
      "Requirement already satisfied: PySocks!=1.5.7,>=1.5.6 in /global/homes/t/tharwood/.conda/envs/form_feat/lib/python3.12/site-packages (from requests[socks]->gdown->msbuddy->chemecho==0.0.0) (1.7.1)\n",
      "Building wheels for collected packages: chemecho\n",
      "  Building wheel for chemecho (setup.py) ... \u001b[?25ldone\n",
      "\u001b[?25h  Created wheel for chemecho: filename=chemecho-0.0.0-py3-none-any.whl size=3586 sha256=7649b146419a93ae6cf350c483c0e5bc5c7aa1296d04db475a2ed961e230626b\n",
      "  Stored in directory: /tmp/pip-ephem-wheel-cache-0956ih2n/wheels/82/85/82/99fa782b0a22d0a90e7a7021979e18c8e81e0060b4c158aa08\n",
      "Successfully built chemecho\n",
      "Installing collected packages: chemecho\n",
      "Successfully installed chemecho-0.0.0\n"
     ]
    }
   ],
   "source": [
    "# install chemecho\n",
    "! pip install git+file:/global/homes/t/tharwood/repos/chemecho"
   ]
  },
  {
   "cell_type": "code",
   "execution_count": 15,
   "id": "22f8b0b0-fada-4601-a8b3-5a3ae6cea07c",
   "metadata": {},
   "outputs": [
    {
     "ename": "ImportError",
     "evalue": "cannot import name 'subformula_featurization' from 'chemecho.featurization' (/global/homes/t/tharwood/.conda/envs/form_feat/lib/python3.12/site-packages/chemecho/featurization.py)",
     "output_type": "error",
     "traceback": [
      "\u001b[0;31m---------------------------------------------------------------------------\u001b[0m",
      "\u001b[0;31mImportError\u001b[0m                               Traceback (most recent call last)",
      "Cell \u001b[0;32mIn[15], line 3\u001b[0m\n\u001b[1;32m      1\u001b[0m \u001b[38;5;66;03m# imports\u001b[39;00m\n\u001b[1;32m      2\u001b[0m \u001b[38;5;28;01mfrom\u001b[39;00m\u001b[38;5;250m \u001b[39m\u001b[38;5;21;01mchemecho\u001b[39;00m\u001b[38;5;21;01m.\u001b[39;00m\u001b[38;5;21;01mutils\u001b[39;00m\u001b[38;5;250m \u001b[39m\u001b[38;5;28;01mimport\u001b[39;00m load_processed_gnps_data, merge_in_nist\n\u001b[0;32m----> 3\u001b[0m \u001b[38;5;28;01mfrom\u001b[39;00m\u001b[38;5;250m \u001b[39m\u001b[38;5;21;01mchemecho\u001b[39;00m\u001b[38;5;21;01m.\u001b[39;00m\u001b[38;5;21;01mfeaturization\u001b[39;00m\u001b[38;5;250m \u001b[39m\u001b[38;5;28;01mimport\u001b[39;00m subformula_featurization, build_feature_matrix\n",
      "\u001b[0;31mImportError\u001b[0m: cannot import name 'subformula_featurization' from 'chemecho.featurization' (/global/homes/t/tharwood/.conda/envs/form_feat/lib/python3.12/site-packages/chemecho/featurization.py)"
     ]
    }
   ],
   "source": [
    "# imports\n",
    "from chemecho.utils import load_processed_gnps_data, merge_in_nist\n",
    "from chemecho.featurization import subformula_featurization, build_feature_matrix"
   ]
  },
  {
   "cell_type": "code",
   "execution_count": null,
   "id": "1c3c35ab",
   "metadata": {},
   "outputs": [],
   "source": [
    "polarity = 'negative' # either 'negative' or 'positive'\n",
    "workdir = '/pscratch/sd/t/tharwood/chemecho_tutorial' # storage location for feature matrices, MS2 libraries, etc.\n",
    "\n",
    "# embedding parameters\n",
    "vector_assignment_method = 'blur' # either 'blur' or 'top'. blur assigns all subformula within tolerance, top takes only the best one\n",
    "max_ppm_error = 5 # max ppm error of the subformula assignment"
   ]
  },
  {
   "cell_type": "markdown",
   "id": "9d1f5c0d",
   "metadata": {},
   "source": [
    "## Download & Process MS2 Training Data (Libraries)"
   ]
  },
  {
   "cell_type": "code",
   "execution_count": 10,
   "id": "4cffdbca",
   "metadata": {},
   "outputs": [
    {
     "data": {
      "text/html": [
       "<pre>2025-02-20 08:57:06,379 - INFO - Cleaned GNPS lib detected, not downloading.</pre>"
      ],
      "text/plain": [
       "<IPython.core.display.HTML object>"
      ]
     },
     "metadata": {},
     "output_type": "display_data"
    },
    {
     "data": {
      "text/html": [
       "<pre>2025-02-20 08:57:29,607 - INFO - Converting GNPS json peaks to numpy spectra.</pre>"
      ],
      "text/plain": [
       "<IPython.core.display.HTML object>"
      ]
     },
     "metadata": {},
     "output_type": "display_data"
    },
    {
     "name": "stderr",
     "output_type": "stream",
     "text": [
      "100%|██████████| 138377/138377 [01:01<00:00, 2234.28it/s] \n",
      "/global/homes/t/tharwood/.conda/envs/form_feat/lib/python3.12/site-packages/chemecho/utils.py:141: DtypeWarning: Columns (11) have mixed types. Specify dtype option on import or set low_memory=False.\n",
      "  nist_cleaned = pd.read_csv(nist_cleaned_path, sep='\\t')\n"
     ]
    },
    {
     "data": {
      "text/html": [
       "<pre>2025-02-20 08:58:32,734 - INFO - Converting NIST json peaks to numpy spectra.</pre>"
      ],
      "text/plain": [
       "<IPython.core.display.HTML object>"
      ]
     },
     "metadata": {},
     "output_type": "display_data"
    },
    {
     "name": "stderr",
     "output_type": "stream",
     "text": [
      "100%|██████████| 21604/21604 [00:01<00:00, 14937.08it/s]\n"
     ]
    }
   ],
   "source": [
    "gnps_cleaned = load_processed_gnps_data(gnps_cleaned_path=f'{workdir}/gnps_cleaned.tsv', convert_spectra=True, polarity=polarity)\n",
    "\n",
    "# If you have access to commercial NIST library:\n",
    "merged_lib = merge_in_nist(gnps_cleaned, nist_cleaned_path=f'{workdir}/nist_cleaned.tsv', convert_spectra=True, polarity=polarity)\n",
    "\n",
    "# if not\n",
    "# merged_lib = gnps_cleaned"
   ]
  },
  {
   "cell_type": "code",
   "execution_count": 14,
   "id": "ad4c4c54",
   "metadata": {},
   "outputs": [
    {
     "name": "stdout",
     "output_type": "stream",
     "text": [
      "Total spectra: 159981\n",
      "Unique InchiKeys: 24936\n"
     ]
    }
   ],
   "source": [
    "print(f\"Total spectra: {merged_lib.shape[0]}\")\n",
    "print(f\"Unique InchiKeys: {len(merged_lib.inchikey_smiles.unique())}\")"
   ]
  },
  {
   "cell_type": "markdown",
   "id": "f6de4036",
   "metadata": {},
   "source": [
    "## Build Training Data Feature Matrix"
   ]
  },
  {
   "cell_type": "code",
   "execution_count": null,
   "id": "276b460b",
   "metadata": {},
   "outputs": [],
   "source": [
    "peak_subformula_vectors, nl_subformula_vectors = subformula_featurization(merged_lib, \n",
    "                                                                          vector_assignment=vector_assignment_method, \n",
    "                                                                          max_ppm_error=max_ppm_error)"
   ]
  },
  {
   "cell_type": "code",
   "execution_count": null,
   "id": "3478d080",
   "metadata": {},
   "outputs": [],
   "source": [
    "featurized_spectral_data, feature_vector_index_map = build_feature_matrix(peak_subformula_vectors, nl_subformula_vectors)"
   ]
  },
  {
   "cell_type": "code",
   "execution_count": null,
   "id": "b1682005",
   "metadata": {},
   "outputs": [],
   "source": []
  }
 ],
 "metadata": {
  "kernelspec": {
   "display_name": "Formula Featurization",
   "language": "python",
   "name": "form_feat"
  },
  "language_info": {
   "codemirror_mode": {
    "name": "ipython",
    "version": 3
   },
   "file_extension": ".py",
   "mimetype": "text/x-python",
   "name": "python",
   "nbconvert_exporter": "python",
   "pygments_lexer": "ipython3",
   "version": "3.12.8"
  }
 },
 "nbformat": 4,
 "nbformat_minor": 5
}
