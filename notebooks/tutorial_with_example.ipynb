{
 "cells": [
  {
   "cell_type": "markdown",
   "id": "a088721f",
   "metadata": {},
   "source": [
    "# ChemEcho Tutorial Notebook\n",
    "- This code provides step by step instructions for training a model from a SMARTS pattern, evaluating the model, and deploying as a MassQL query\n",
    "- Other than ChemEcho, must install the MassQL pypi package to last section"
   ]
  },
  {
   "cell_type": "markdown",
   "id": "30a68050",
   "metadata": {},
   "source": [
    "## Initial Setup"
   ]
  },
  {
   "cell_type": "code",
   "execution_count": null,
   "id": "b5ca6f83",
   "metadata": {
    "scrolled": true
   },
   "outputs": [],
   "source": [
    "# install chemecho\n",
    "! pip uninstall -y chemecho\n",
    "! pip install git+https://github.com/biorack/chemecho.git"
   ]
  },
  {
   "cell_type": "code",
   "execution_count": 1,
   "id": "22f8b0b0-fada-4601-a8b3-5a3ae6cea07c",
   "metadata": {},
   "outputs": [
    {
     "data": {
      "text/html": [
       "<pre>2025-07-03 14:28:02,771 - INFO - Jupyter notebook detected, using notebook logging.</pre>"
      ],
      "text/plain": [
       "<IPython.core.display.HTML object>"
      ]
     },
     "metadata": {},
     "output_type": "display_data"
    }
   ],
   "source": [
    "# imports\n",
    "from chemecho.utils import load_processed_gnps_data, merge_in_nist\n",
    "from chemecho.featurization import subformula_featurization, build_feature_matrix, feature_reduction, save_featurized_spectra, load_featurized_spectra, vectorize_spectrum"
   ]
  },
  {
   "cell_type": "code",
   "execution_count": 2,
   "id": "1c3c35ab",
   "metadata": {},
   "outputs": [],
   "source": [
    "polarity = 'negative' # either 'negative' or 'positive'\n",
    "workdir = '/pscratch/sd/t/tharwood/chemecho_tutorial' # storage location for feature matrices, MS2 libraries, etc.\n",
    "\n",
    "# embedding parameters\n",
    "vector_assignment_method = 'blur' # either 'blur' or 'top'. blur assigns all subformula within tolerance, top takes only the best one\n",
    "max_ppm_error = 5 # max ppm error of the subformula assignment\n",
    "min_feature_occurence = 6 # minimum number of feature occurences to keep"
   ]
  },
  {
   "cell_type": "markdown",
   "id": "9d1f5c0d",
   "metadata": {},
   "source": [
    "## Download & Process MS2 Training Data (Libraries)"
   ]
  },
  {
   "cell_type": "code",
   "execution_count": 3,
   "id": "4cffdbca",
   "metadata": {},
   "outputs": [
    {
     "data": {
      "text/html": [
       "<pre>2025-07-03 14:28:07,780 - INFO - Cleaned GNPS lib detected, not downloading.</pre>"
      ],
      "text/plain": [
       "<IPython.core.display.HTML object>"
      ]
     },
     "metadata": {},
     "output_type": "display_data"
    },
    {
     "name": "stderr",
     "output_type": "stream",
     "text": [
      "INFO:logger:Cleaned GNPS lib detected, not downloading.\n"
     ]
    },
    {
     "data": {
      "text/html": [
       "<pre>2025-07-03 14:28:29,511 - INFO - Converting GNPS json peaks to numpy spectra.</pre>"
      ],
      "text/plain": [
       "<IPython.core.display.HTML object>"
      ]
     },
     "metadata": {},
     "output_type": "display_data"
    },
    {
     "name": "stderr",
     "output_type": "stream",
     "text": [
      "INFO:logger:Converting GNPS json peaks to numpy spectra.\n"
     ]
    },
    {
     "data": {
      "application/vnd.jupyter.widget-view+json": {
       "model_id": "07a4a1080ee84fc59132787712c9d6e1",
       "version_major": 2,
       "version_minor": 0
      },
      "text/plain": [
       "  0%|          | 0/138377 [00:00<?, ?it/s]"
      ]
     },
     "metadata": {},
     "output_type": "display_data"
    },
    {
     "data": {
      "text/html": [
       "<pre>2025-07-03 14:29:29,799 - INFO - Converting NIST json peaks to numpy spectra.</pre>"
      ],
      "text/plain": [
       "<IPython.core.display.HTML object>"
      ]
     },
     "metadata": {},
     "output_type": "display_data"
    },
    {
     "name": "stderr",
     "output_type": "stream",
     "text": [
      "INFO:logger:Converting NIST json peaks to numpy spectra.\n"
     ]
    },
    {
     "data": {
      "application/vnd.jupyter.widget-view+json": {
       "model_id": "87d2cd6b3888468ba7d6c148c3a23614",
       "version_major": 2,
       "version_minor": 0
      },
      "text/plain": [
       "  0%|          | 0/21604 [00:00<?, ?it/s]"
      ]
     },
     "metadata": {},
     "output_type": "display_data"
    }
   ],
   "source": [
    "# this function will also download gnps_cleaned if not present at provided path\n",
    "gnps_cleaned = load_processed_gnps_data(gnps_cleaned_path=f'{workdir}/gnps_cleaned.tsv', convert_spectra=True, polarity=polarity)\n",
    "\n",
    "# If you have access to commercial NIST library:\n",
    "merged_lib = merge_in_nist(gnps_cleaned, nist_cleaned_path=f'{workdir}/nist_cleaned.tsv', convert_spectra=True, polarity=polarity)\n",
    "\n",
    "# if not, uncomment this and remove the line above\n",
    "# merged_lib = gnps_cleaned"
   ]
  },
  {
   "cell_type": "code",
   "execution_count": 4,
   "id": "ad4c4c54",
   "metadata": {},
   "outputs": [
    {
     "name": "stdout",
     "output_type": "stream",
     "text": [
      "Total spectra: 159981\n",
      "Unique InchiKeys: 24936\n"
     ]
    }
   ],
   "source": [
    "print(f\"Total spectra: {merged_lib.shape[0]}\")\n",
    "print(f\"Unique InchiKeys: {len(merged_lib.inchikey_smiles.unique())}\")"
   ]
  },
  {
   "cell_type": "markdown",
   "id": "f6de4036",
   "metadata": {},
   "source": [
    "## Build Training Data Feature Matrix"
   ]
  },
  {
   "cell_type": "code",
   "execution_count": 5,
   "id": "276b460b",
   "metadata": {},
   "outputs": [
    {
     "data": {
      "application/vnd.jupyter.widget-view+json": {
       "model_id": "97d5fec86a624525ad1c8e169edc47bb",
       "version_major": 2,
       "version_minor": 0
      },
      "text/plain": [
       "  0%|          | 0/159981 [00:00<?, ?row/s]"
      ]
     },
     "metadata": {},
     "output_type": "display_data"
    }
   ],
   "source": [
    "peak_subformula_vectors, nl_subformula_vectors = subformula_featurization(merged_lib, \n",
    "                                                                          vector_assignment=vector_assignment_method, \n",
    "                                                                          max_ppm_error=max_ppm_error)"
   ]
  },
  {
   "cell_type": "code",
   "execution_count": 6,
   "id": "b4105376",
   "metadata": {},
   "outputs": [],
   "source": [
    "# get indices of spectra with no subformula assigned\n",
    "failed_spectra_idxs = [i for i in range(len(peak_subformula_vectors)) if peak_subformula_vectors[i] is None]"
   ]
  },
  {
   "cell_type": "code",
   "execution_count": 7,
   "id": "3478d080",
   "metadata": {},
   "outputs": [],
   "source": [
    "featurized_spectral_data, feature_vector_index_map = build_feature_matrix(peak_subformula_vectors, nl_subformula_vectors)"
   ]
  },
  {
   "cell_type": "code",
   "execution_count": 8,
   "id": "43e05086",
   "metadata": {},
   "outputs": [],
   "source": [
    "featurized_spectral_data, feature_vector_index_map = feature_reduction(featurized_spectral_data, feature_vector_index_map, \n",
    "                                                                       min_occurence=min_feature_occurence)"
   ]
  },
  {
   "cell_type": "code",
   "execution_count": 9,
   "id": "3d199719",
   "metadata": {},
   "outputs": [],
   "source": [
    "# save embeddings\n",
    "save_featurized_spectra(featurized_spectral_data, feature_vector_index_map, failed_spectra_idxs, workdir, \n",
    "                        overwrite=False,\n",
    "                        polarity=polarity)"
   ]
  },
  {
   "cell_type": "markdown",
   "id": "24f77f3c",
   "metadata": {},
   "source": [
    "## Label Data and Train Model"
   ]
  },
  {
   "cell_type": "code",
   "execution_count": 10,
   "id": "4058c332",
   "metadata": {},
   "outputs": [],
   "source": [
    "from chemecho.train_predict import train_substructure_tree, filter_failed_idxs"
   ]
  },
  {
   "cell_type": "code",
   "execution_count": 11,
   "id": "c37fcffd",
   "metadata": {},
   "outputs": [],
   "source": [
    "# load embeddings\n",
    "featurized_spectral_data, feature_vector_index_map, failed_spectra_idxs = load_featurized_spectra(workdir, polarity=polarity)"
   ]
  },
  {
   "cell_type": "code",
   "execution_count": 12,
   "id": "af9411e5",
   "metadata": {},
   "outputs": [],
   "source": [
    "# filter failed spectra\n",
    "filtered_spectral_data, filtered_merged_lib = filter_failed_idxs(featurized_spectral_data, merged_lib, failed_spectra_idxs)"
   ]
  },
  {
   "cell_type": "code",
   "execution_count": 13,
   "id": "9146b690",
   "metadata": {},
   "outputs": [],
   "source": [
    "# simplistic example for training a model for predicting glucose-derivatives\n",
    "hexose_smarts = 'OCC1OC(O)C(O)C(O)C1O'\n",
    "\n",
    "model, report = train_substructure_tree(hexose_smarts, filtered_merged_lib, filtered_spectral_data, workdir, polarity,\n",
    "                                        frag_type='smarts',\n",
    "                                        max_depth=3,\n",
    "                                        min_frag_count=1,\n",
    "                                        min_positive_unique=10,\n",
    "                                        save_model=True)"
   ]
  },
  {
   "cell_type": "code",
   "execution_count": 14,
   "id": "2da68f95",
   "metadata": {
    "scrolled": true
   },
   "outputs": [
    {
     "name": "stdout",
     "output_type": "stream",
     "text": [
      "Precision (True): 0.8079567779960707 \n",
      "Recall (True): 0.43866666666666665\n"
     ]
    }
   ],
   "source": [
    "print(f\"Precision (True): {report['True']['precision']} \\n\"\n",
    "      f\"Recall (True): {report['True']['recall']}\")"
   ]
  },
  {
   "cell_type": "markdown",
   "id": "5329b49e-9018-4ed0-b6dc-a9d38d2aede2",
   "metadata": {},
   "source": [
    "## Display Decision Tree Rules"
   ]
  },
  {
   "cell_type": "code",
   "execution_count": 15,
   "id": "f857723a-0198-4fe1-86e0-159e8e570ff3",
   "metadata": {},
   "outputs": [],
   "source": [
    "from sklearn.tree import plot_tree\n",
    "import matplotlib.pyplot as plt"
   ]
  },
  {
   "cell_type": "code",
   "execution_count": 16,
   "id": "73246265-badb-430b-aa4e-4677221eb4a4",
   "metadata": {},
   "outputs": [
    {
     "data": {
      "image/png": "[encoded data removed]",
      "text/plain": [
       "<Figure size 1600x1000 with 1 Axes>"
      ]
     },
     "metadata": {},
     "output_type": "display_data"
    }
   ],
   "source": [
    "feature_names = list(feature_vector_index_map.keys())\n",
    "class_names = ['No Hexose', 'Hexose']\n",
    "\n",
    "fig, ax = plt.subplots(figsize=(16, 10))\n",
    "plot_tree(model, feature_names=feature_names, class_names=class_names,)\n",
    "plt.show()"
   ]
  },
  {
   "cell_type": "markdown",
   "id": "cf1c99dc",
   "metadata": {},
   "source": [
    "## Predict From New Spectra"
   ]
  },
  {
   "cell_type": "code",
   "execution_count": 17,
   "id": "3e500ed9",
   "metadata": {},
   "outputs": [],
   "source": [
    "import numpy as np\n",
    "from rdkit.Chem import AllChem\n",
    "from IPython.display import display"
   ]
  },
  {
   "cell_type": "code",
   "execution_count": 18,
   "id": "bbb7adfd",
   "metadata": {},
   "outputs": [],
   "source": [
    "molecule1 = \"Glucuronic acid\"\n",
    "smiles1 = \"[C@@H]1([C@@H]([C@H](OC([C@@H]1O)O)C(=O)O)O)O\"\n",
    "parent_form1 = 'C6H10O7' # in real cases predicted with SIRIUS/MSBuddy\n",
    "adduct1 = '[M-H]-' # in real cases either assumed (resulting in predictive penalty) or predicted/empirically determined\n",
    "precursor_mz1 = 193.035\n",
    "spectrum1 = np.array([[51.709801,\n",
    "  57.034199,\n",
    "  59.013401,\n",
    "  71.013603,\n",
    "  71.408501,\n",
    "  72.992897,\n",
    "  73.029297,\n",
    "  73.972702,\n",
    "  75.008499,\n",
    "  83.013702,\n",
    "  85.029404,\n",
    "  85.035004,\n",
    "  87.008698,\n",
    "  89.0243,\n",
    "  95.013802,\n",
    "  99.009003,\n",
    "  101.024002,\n",
    "  103.003998,\n",
    "  113.014999,\n",
    "  113.024002,\n",
    "  116.607002,\n",
    "  129.020004,\n",
    "  131.035004,\n",
    "  133.014008,\n",
    "  157.014999,\n",
    "  163.024994,\n",
    "  193.035004],\n",
    " [55178.199219,\n",
    "  229171.0,\n",
    "  2067150.0,\n",
    "  2229370.0,\n",
    "  59995.300781,\n",
    "  5109200.0,\n",
    "  1023610.0,\n",
    "  94215.898438,\n",
    "  87368.898438,\n",
    "  106567.0,\n",
    "  2388860.0,\n",
    "  118491.0,\n",
    "  91278.398438,\n",
    "  1230700.0,\n",
    "  467406.0,\n",
    "  246487.0,\n",
    "  1734100.0,\n",
    "  1689690.0,\n",
    "  144557.0,\n",
    "  4421380.0,\n",
    "  65680.796875,\n",
    "  248136.0,\n",
    "  568488.0,\n",
    "  382782.0,\n",
    "  295386.0,\n",
    "  107466.0,\n",
    "  836176.0]])"
   ]
  },
  {
   "cell_type": "code",
   "execution_count": 19,
   "id": "34f04256-2820-4e57-aeb0-f23387bc350a",
   "metadata": {},
   "outputs": [
    {
     "name": "stdout",
     "output_type": "stream",
     "text": [
      "Smarts Pattern Used for Training:\n"
     ]
    },
    {
     "data": {
      "image/png": "[encoded data removed]",
      "text/plain": [
       "<rdkit.Chem.rdchem.Mol at 0x7fc1aea5f220>"
      ]
     },
     "metadata": {},
     "output_type": "display_data"
    }
   ],
   "source": [
    "mol = AllChem.MolFromSmarts(hexose_smarts)\n",
    "print(\"Smarts Pattern Used for Training:\")\n",
    "\n",
    "display(mol)"
   ]
  },
  {
   "cell_type": "code",
   "execution_count": 20,
   "id": "b41d122d-2027-4ccd-aac2-2780fa960302",
   "metadata": {},
   "outputs": [
    {
     "name": "stdout",
     "output_type": "stream",
     "text": [
      "Test Molecule Glucuronic acid\n"
     ]
    },
    {
     "data": {
      "image/png": "[encoded data removed]",
      "text/plain": [
       "<rdkit.Chem.rdchem.Mol at 0x7fc1aea5f680>"
      ]
     },
     "metadata": {},
     "output_type": "display_data"
    }
   ],
   "source": [
    "mol = AllChem.MolFromSmiles(smiles1)\n",
    "print(f\"Test Molecule {molecule1}\")\n",
    "\n",
    "display(mol)"
   ]
  },
  {
   "cell_type": "code",
   "execution_count": 21,
   "id": "948d348c",
   "metadata": {
    "scrolled": true
   },
   "outputs": [],
   "source": [
    "ms2_vector = vectorize_spectrum(spectrum1,\n",
    "                                precursor_mz1,\n",
    "                                parent_form1,\n",
    "                                adduct1,\n",
    "                                feature_vector_index_map,\n",
    "                                max_ppm_error=5,\n",
    "                                vector_assignment='blur')"
   ]
  },
  {
   "cell_type": "code",
   "execution_count": 22,
   "id": "ed8ee639",
   "metadata": {},
   "outputs": [
    {
     "name": "stdout",
     "output_type": "stream",
     "text": [
      "Prediction using model: True\n"
     ]
    }
   ],
   "source": [
    "test_pred = model.predict(ms2_vector)\n",
    "print(f\"Prediction using model: {test_pred[0]}\")"
   ]
  },
  {
   "cell_type": "markdown",
   "id": "a7e5f2df-1b92-4830-bfe6-993e3697581f",
   "metadata": {},
   "source": [
    "## Convert Decision Tree into MassQL Rules"
   ]
  },
  {
   "cell_type": "code",
   "execution_count": 23,
   "id": "e74301f4-90d3-42ce-97fb-e8aef3da0f72",
   "metadata": {},
   "outputs": [],
   "source": [
    "from chemecho.train_predict import convert_tree_to_massql"
   ]
  },
  {
   "cell_type": "code",
   "execution_count": 24,
   "id": "c543bfe8-5731-4f72-b1fc-032e5dfb6ab8",
   "metadata": {},
   "outputs": [],
   "source": [
    "massql_rules = convert_tree_to_massql(model, list(feature_vector_index_map.keys()), positive_class=1, data_type=\"MS2DATA\", tolerance=10, polarity=None, precision=3)"
   ]
  },
  {
   "cell_type": "code",
   "execution_count": 25,
   "id": "5992753b-022e-4b58-a649-948c0a41ae7c",
   "metadata": {},
   "outputs": [
    {
     "data": {
      "text/plain": [
       "'QUERY scaninfo(MS2DATA) WHERE MS2PROD=formula(C5H5O3):TOLERANCEPPM=10:INTENSITYPERCENT=0.000:EXCLUDED AND MS2NL=formula(C8H16O2S2):TOLERANCEPPM=10:INTENSITYPERCENT=0.000:EXCLUDED AND MS2NL=formula(C6H10O5):TOLERANCEPPM=10:INTENSITYPERCENT=0.007 ||| QUERY scaninfo(MS2DATA) WHERE MS2PROD=formula(C5H5O3):TOLERANCEPPM=10:INTENSITYPERCENT=0.000:EXCLUDED AND MS2NL=formula(C8H16O2S2):TOLERANCEPPM=10:INTENSITYPERCENT=0.000 AND MS2NL=formula(C6H14O2S2):TOLERANCEPPM=10:INTENSITYPERCENT=0.002:EXCLUDED ||| QUERY scaninfo(MS2DATA) WHERE MS2PROD=formula(C5H5O3):TOLERANCEPPM=10:INTENSITYPERCENT=0.000 AND MS2NL=formula(CH6O4):TOLERANCEPPM=10:INTENSITYPERCENT=0.001:EXCLUDED AND MS2NL=formula(C3H4O2):TOLERANCEPPM=10:INTENSITYPERCENT=0.000:EXCLUDED'"
      ]
     },
     "execution_count": 25,
     "metadata": {},
     "output_type": "execute_result"
    }
   ],
   "source": [
    "massql_rules"
   ]
  },
  {
   "cell_type": "markdown",
   "id": "7c9ea89f-2cbe-4f67-885a-7da886e7f6e9",
   "metadata": {},
   "source": [
    "## Apply MassQL Rules to Spectra\n",
    "### This can also be done on GNPS2: [https://gnps2.org/workflowinput?workflowname=massql_workflow]"
   ]
  },
  {
   "cell_type": "code",
   "execution_count": 26,
   "id": "1c62672a-64e1-4d0b-88b2-ba6e26345082",
   "metadata": {},
   "outputs": [],
   "source": [
    "import pandas as pd\n",
    "from massql import msql_engine\n",
    "from massql import msql_fileloading"
   ]
  },
  {
   "cell_type": "code",
   "execution_count": 27,
   "id": "0a51e161-9867-4735-886b-95a416bf1aeb",
   "metadata": {
    "scrolled": true
   },
   "outputs": [
    {
     "name": "stderr",
     "output_type": "stream",
     "text": [
      "100%|██████████| 14/14 [00:00<00:00, 1275.03it/s]\n"
     ]
    },
    {
     "name": "stdout",
     "output_type": "stream",
     "text": [
      "TOTAL QUERIES 1\n"
     ]
    },
    {
     "name": "stderr",
     "output_type": "stream",
     "text": [
      "100%|██████████| 1/1 [00:00<00:00, 77.55it/s]\n"
     ]
    },
    {
     "name": "stdout",
     "output_type": "stream",
     "text": [
      "parsed_dict {\n",
      "    \"querytype\": {\n",
      "        \"function\": \"functionscaninfo\",\n",
      "        \"datatype\": \"datams2data\"\n",
      "    },\n",
      "    \"conditions\": [\n",
      "        {\n",
      "            \"type\": \"ms2productcondition\",\n",
      "            \"value\": [\n",
      "                113.02386901903\n",
      "            ],\n",
      "            \"conditiontype\": \"where\",\n",
      "            \"qualifiers\": {\n",
      "                \"type\": \"qualifier\",\n",
      "                \"qualifierppmtolerance\": {\n",
      "                    \"name\": \"qualifierppmtolerance\",\n",
      "                    \"unit\": \"ppm\",\n",
      "                    \"value\": 10.0\n",
      "                },\n",
      "                \"qualifierintensitypercent\": {\n",
      "                    \"name\": \"qualifierintensitypercent\",\n",
      "                    \"value\": 0.0\n",
      "                },\n",
      "                \"qualifierexcluded\": {\n",
      "                    \"name\": \"qualifierexcluded\"\n",
      "                }\n",
      "            }\n",
      "        },\n",
      "        {\n",
      "            \"type\": \"ms2neutrallosscondition\",\n",
      "            \"value\": [\n",
      "                208.05917175224\n",
      "            ],\n",
      "            \"conditiontype\": \"where\",\n",
      "            \"qualifiers\": {\n",
      "                \"type\": \"qualifier\",\n",
      "                \"qualifierppmtolerance\": {\n",
      "                    \"name\": \"qualifierppmtolerance\",\n",
      "                    \"unit\": \"ppm\",\n",
      "                    \"value\": 10.0\n",
      "                },\n",
      "                \"qualifierintensitypercent\": {\n",
      "                    \"name\": \"qualifierintensitypercent\",\n",
      "                    \"value\": 0.0\n",
      "                },\n",
      "                \"qualifierexcluded\": {\n",
      "                    \"name\": \"qualifierexcluded\"\n",
      "                }\n",
      "            }\n",
      "        },\n",
      "        {\n",
      "            \"type\": \"ms2neutrallosscondition\",\n",
      "            \"value\": [\n",
      "                162.0528234185\n",
      "            ],\n",
      "            \"conditiontype\": \"where\",\n",
      "            \"qualifiers\": {\n",
      "                \"type\": \"qualifier\",\n",
      "                \"qualifierppmtolerance\": {\n",
      "                    \"name\": \"qualifierppmtolerance\",\n",
      "                    \"unit\": \"ppm\",\n",
      "                    \"value\": 10.0\n",
      "                },\n",
      "                \"qualifierintensitypercent\": {\n",
      "                    \"name\": \"qualifierintensitypercent\",\n",
      "                    \"value\": 0.007\n",
      "                }\n",
      "            }\n",
      "        }\n",
      "    ],\n",
      "    \"query\": \"QUERY scaninfo(MS2DATA) WHERE MS2PROD=formula(C5H5O3):TOLERANCEPPM=10:INTENSITYPERCENT=0.000:EXCLUDED AND MS2NL=formula(C8H16O2S2):TOLERANCEPPM=10:INTENSITYPERCENT=0.000:EXCLUDED AND MS2NL=formula(C6H10O5):TOLERANCEPPM=10:INTENSITYPERCENT=0.007 \"\n",
      "}\n",
      "TOTAL QUERIES 1\n"
     ]
    },
    {
     "name": "stderr",
     "output_type": "stream",
     "text": [
      "100%|██████████| 1/1 [00:00<00:00, 284.17it/s]\n"
     ]
    },
    {
     "name": "stdout",
     "output_type": "stream",
     "text": [
      "parsed_dict {\n",
      "    \"querytype\": {\n",
      "        \"function\": \"functionscaninfo\",\n",
      "        \"datatype\": \"datams2data\"\n",
      "    },\n",
      "    \"conditions\": [\n",
      "        {\n",
      "            \"type\": \"ms2productcondition\",\n",
      "            \"value\": [\n",
      "                113.02386901903\n",
      "            ],\n",
      "            \"conditiontype\": \"where\",\n",
      "            \"qualifiers\": {\n",
      "                \"type\": \"qualifier\",\n",
      "                \"qualifierppmtolerance\": {\n",
      "                    \"name\": \"qualifierppmtolerance\",\n",
      "                    \"unit\": \"ppm\",\n",
      "                    \"value\": 10.0\n",
      "                },\n",
      "                \"qualifierintensitypercent\": {\n",
      "                    \"name\": \"qualifierintensitypercent\",\n",
      "                    \"value\": 0.0\n",
      "                },\n",
      "                \"qualifierexcluded\": {\n",
      "                    \"name\": \"qualifierexcluded\"\n",
      "                }\n",
      "            }\n",
      "        },\n",
      "        {\n",
      "            \"type\": \"ms2neutrallosscondition\",\n",
      "            \"value\": [\n",
      "                208.05917175224\n",
      "            ],\n",
      "            \"conditiontype\": \"where\",\n",
      "            \"qualifiers\": {\n",
      "                \"type\": \"qualifier\",\n",
      "                \"qualifierppmtolerance\": {\n",
      "                    \"name\": \"qualifierppmtolerance\",\n",
      "                    \"unit\": \"ppm\",\n",
      "                    \"value\": 10.0\n",
      "                },\n",
      "                \"qualifierintensitypercent\": {\n",
      "                    \"name\": \"qualifierintensitypercent\",\n",
      "                    \"value\": 0.0\n",
      "                }\n",
      "            }\n",
      "        },\n",
      "        {\n",
      "            \"type\": \"ms2neutrallosscondition\",\n",
      "            \"value\": [\n",
      "                182.0435216881\n",
      "            ],\n",
      "            \"conditiontype\": \"where\",\n",
      "            \"qualifiers\": {\n",
      "                \"type\": \"qualifier\",\n",
      "                \"qualifierppmtolerance\": {\n",
      "                    \"name\": \"qualifierppmtolerance\",\n",
      "                    \"unit\": \"ppm\",\n",
      "                    \"value\": 10.0\n",
      "                },\n",
      "                \"qualifierintensitypercent\": {\n",
      "                    \"name\": \"qualifierintensitypercent\",\n",
      "                    \"value\": 0.002\n",
      "                },\n",
      "                \"qualifierexcluded\": {\n",
      "                    \"name\": \"qualifierexcluded\"\n",
      "                }\n",
      "            }\n",
      "        }\n",
      "    ],\n",
      "    \"query\": \"QUERY scaninfo(MS2DATA) WHERE MS2PROD=formula(C5H5O3):TOLERANCEPPM=10:INTENSITYPERCENT=0.000:EXCLUDED AND MS2NL=formula(C8H16O2S2):TOLERANCEPPM=10:INTENSITYPERCENT=0.000 AND MS2NL=formula(C6H14O2S2):TOLERANCEPPM=10:INTENSITYPERCENT=0.002:EXCLUDED \"\n",
      "}\n",
      "TOTAL QUERIES 1\n"
     ]
    },
    {
     "name": "stderr",
     "output_type": "stream",
     "text": [
      "100%|██████████| 1/1 [00:00<00:00, 565.96it/s]"
     ]
    },
    {
     "name": "stdout",
     "output_type": "stream",
     "text": [
      "parsed_dict {\n",
      "    \"querytype\": {\n",
      "        \"function\": \"functionscaninfo\",\n",
      "        \"datatype\": \"datams2data\"\n",
      "    },\n",
      "    \"conditions\": [\n",
      "        {\n",
      "            \"type\": \"ms2productcondition\",\n",
      "            \"value\": [\n",
      "                113.02386901903\n",
      "            ],\n",
      "            \"conditiontype\": \"where\",\n",
      "            \"qualifiers\": {\n",
      "                \"type\": \"qualifier\",\n",
      "                \"qualifierppmtolerance\": {\n",
      "                    \"name\": \"qualifierppmtolerance\",\n",
      "                    \"unit\": \"ppm\",\n",
      "                    \"value\": 10.0\n",
      "                },\n",
      "                \"qualifierintensitypercent\": {\n",
      "                    \"name\": \"qualifierintensitypercent\",\n",
      "                    \"value\": 0.0\n",
      "                }\n",
      "            }\n",
      "        },\n",
      "        {\n",
      "            \"type\": \"ms2neutrallosscondition\",\n",
      "            \"value\": [\n",
      "                82.02660867066\n",
      "            ],\n",
      "            \"conditiontype\": \"where\",\n",
      "            \"qualifiers\": {\n",
      "                \"type\": \"qualifier\",\n",
      "                \"qualifierppmtolerance\": {\n",
      "                    \"name\": \"qualifierppmtolerance\",\n",
      "                    \"unit\": \"ppm\",\n",
      "                    \"value\": 10.0\n",
      "                },\n",
      "                \"qualifierintensitypercent\": {\n",
      "                    \"name\": \"qualifierintensitypercent\",\n",
      "                    \"value\": 0.001\n",
      "                },\n",
      "                \"qualifierexcluded\": {\n",
      "                    \"name\": \"qualifierexcluded\"\n",
      "                }\n",
      "            }\n",
      "        },\n",
      "        {\n",
      "            \"type\": \"ms2neutrallosscondition\",\n",
      "            \"value\": [\n",
      "                72.0211293674\n",
      "            ],\n",
      "            \"conditiontype\": \"where\",\n",
      "            \"qualifiers\": {\n",
      "                \"type\": \"qualifier\",\n",
      "                \"qualifierppmtolerance\": {\n",
      "                    \"name\": \"qualifierppmtolerance\",\n",
      "                    \"unit\": \"ppm\",\n",
      "                    \"value\": 10.0\n",
      "                },\n",
      "                \"qualifierintensitypercent\": {\n",
      "                    \"name\": \"qualifierintensitypercent\",\n",
      "                    \"value\": 0.0\n",
      "                },\n",
      "                \"qualifierexcluded\": {\n",
      "                    \"name\": \"qualifierexcluded\"\n",
      "                }\n",
      "            }\n",
      "        }\n",
      "    ],\n",
      "    \"query\": \"QUERY scaninfo(MS2DATA) WHERE MS2PROD=formula(C5H5O3):TOLERANCEPPM=10:INTENSITYPERCENT=0.000 AND MS2NL=formula(CH6O4):TOLERANCEPPM=10:INTENSITYPERCENT=0.001:EXCLUDED AND MS2NL=formula(C3H4O2):TOLERANCEPPM=10:INTENSITYPERCENT=0.000:EXCLUDED\"\n",
      "}\n"
     ]
    },
    {
     "name": "stderr",
     "output_type": "stream",
     "text": [
      "\n"
     ]
    }
   ],
   "source": [
    "# load data. Demo data is json, but can use mgf or mzml\n",
    "ms1_df, ms2_df = msql_fileloading.load_data(\"demo_spectra.json\")\n",
    "demo_spectra = pd.read_json(\"demo_spectra.json\")\n",
    "\n",
    "# Apply queries to demo data\n",
    "all_results = []\n",
    "for query in massql_rules.split('|||'):\n",
    "    results_df = msql_engine.process_query(query, \"demo_spectra.json\", ms1_df=ms1_df, ms2_df=ms2_df, path_to_grammar=None)\n",
    "    all_results.append(results_df)\n",
    "\n",
    "all_results = pd.concat(all_results)\n",
    "all_results = pd.merge(all_results, demo_spectra.rename(columns={'spectrum_id':'scan'}), on='scan')"
   ]
  },
  {
   "cell_type": "code",
   "execution_count": 28,
   "id": "934447bc-3fe3-43e8-8d0f-c26d2ed5d082",
   "metadata": {},
   "outputs": [
    {
     "data": {
      "image/png": "[encoded data removed]",
      "text/plain": [
       "<rdkit.Chem.rdchem.Mol at 0x7fc19ff6c120>"
      ]
     },
     "metadata": {},
     "output_type": "display_data"
    },
    {
     "data": {
      "image/png": "[encoded data removed]",
      "text/plain": [
       "<rdkit.Chem.rdchem.Mol at 0x7fc1aea5f680>"
      ]
     },
     "metadata": {},
     "output_type": "display_data"
    }
   ],
   "source": [
    "# display retrieved structures\n",
    "for smiles in all_results.smiles.tolist():\n",
    "    mol = AllChem.MolFromSmiles(smiles)\n",
    "    display(mol)"
   ]
  },
  {
   "cell_type": "code",
   "execution_count": null,
   "id": "4c1e10a2-130e-42c5-9a6b-8ee6c3ad70db",
   "metadata": {},
   "outputs": [],
   "source": []
  },
  {
   "cell_type": "code",
   "execution_count": null,
   "id": "2e421f32-f4d2-46bd-9a40-42fb9c0796c9",
   "metadata": {},
   "outputs": [],
   "source": []
  }
 ],
 "metadata": {
  "kernelspec": {
   "display_name": "Formula Featurization",
   "language": "python",
   "name": "form_feat"
  },
  "language_info": {
   "codemirror_mode": {
    "name": "ipython",
    "version": 3
   },
   "file_extension": ".py",
   "mimetype": "text/x-python",
   "name": "python",
   "nbconvert_exporter": "python",
   "pygments_lexer": "ipython3",
   "version": "3.12.8"
  }
 },
 "nbformat": 4,
 "nbformat_minor": 5
}
