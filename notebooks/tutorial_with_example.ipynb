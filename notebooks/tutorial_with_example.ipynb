{
 "cells": [
  {
   "cell_type": "markdown",
   "id": "a088721f",
   "metadata": {},
   "source": [
    "# ChemEcho Tutorial Notebook"
   ]
  },
  {
   "cell_type": "markdown",
   "id": "30a68050",
   "metadata": {},
   "source": [
    "## Initial Setup"
   ]
  },
  {
   "cell_type": "code",
   "execution_count": null,
   "id": "b5ca6f83",
   "metadata": {},
   "outputs": [],
   "source": [
    "# install chemecho\n",
    "! pip uninstall -y chemecho\n",
    "! pip install git+file:///global/homes/t/tharwood/repos/chemecho/"
   ]
  },
  {
   "cell_type": "code",
   "execution_count": null,
   "id": "22f8b0b0-fada-4601-a8b3-5a3ae6cea07c",
   "metadata": {},
   "outputs": [],
   "source": [
    "# imports\n",
    "from chemecho.utils import load_processed_gnps_data, merge_in_nist\n",
    "from chemecho.featurization import subformula_featurization, build_feature_matrix, feature_reduction"
   ]
  },
  {
   "cell_type": "code",
   "execution_count": null,
   "id": "1c3c35ab",
   "metadata": {},
   "outputs": [],
   "source": [
    "polarity = 'negative' # either 'negative' or 'positive'\n",
    "workdir = '/pscratch/sd/t/tharwood/chemecho_tutorial' # storage location for feature matrices, MS2 libraries, etc.\n",
    "\n",
    "# embedding parameters\n",
    "vector_assignment_method = 'blur' # either 'blur' or 'top'. blur assigns all subformula within tolerance, top takes only the best one\n",
    "max_ppm_error = 5 # max ppm error of the subformula assignment\n",
    "min_feature_occurence = 6 # minimum number of feature occurences to keep\n",
    "max_feature_correlation = 0.95 # maximum correlation between features for reduction"
   ]
  },
  {
   "cell_type": "markdown",
   "id": "9d1f5c0d",
   "metadata": {},
   "source": [
    "## Download & Process MS2 Training Data (Libraries)"
   ]
  },
  {
   "cell_type": "code",
   "execution_count": null,
   "id": "4cffdbca",
   "metadata": {},
   "outputs": [],
   "source": [
    "gnps_cleaned = load_processed_gnps_data(gnps_cleaned_path=f'{workdir}/gnps_cleaned.tsv', convert_spectra=True, polarity=polarity)\n",
    "\n",
    "# If you have access to commercial NIST library:\n",
    "merged_lib = merge_in_nist(gnps_cleaned, nist_cleaned_path=f'{workdir}/nist_cleaned.tsv', convert_spectra=True, polarity=polarity)\n",
    "\n",
    "# if not\n",
    "# merged_lib = gnps_cleaned"
   ]
  },
  {
   "cell_type": "code",
   "execution_count": null,
   "id": "ad4c4c54",
   "metadata": {},
   "outputs": [],
   "source": [
    "print(f\"Total spectra: {merged_lib.shape[0]}\")\n",
    "print(f\"Unique InchiKeys: {len(merged_lib.inchikey_smiles.unique())}\")"
   ]
  },
  {
   "cell_type": "markdown",
   "id": "f6de4036",
   "metadata": {},
   "source": [
    "## Build Training Data Feature Matrix"
   ]
  },
  {
   "cell_type": "code",
   "execution_count": null,
   "id": "4e594737",
   "metadata": {},
   "outputs": [],
   "source": [
    "# sample merged_lib for faster processing time\n",
    "merged_lib = merged_lib.sample(1000).reset_index(drop=True)"
   ]
  },
  {
   "cell_type": "code",
   "execution_count": null,
   "id": "276b460b",
   "metadata": {},
   "outputs": [],
   "source": [
    "peak_subformula_vectors, nl_subformula_vectors = subformula_featurization(merged_lib, \n",
    "                                                                          vector_assignment=vector_assignment_method, \n",
    "                                                                          max_ppm_error=max_ppm_error)"
   ]
  },
  {
   "cell_type": "code",
   "execution_count": null,
   "id": "b4105376",
   "metadata": {},
   "outputs": [],
   "source": [
    "# get indices of spectra with no subformula assigned\n",
    "failed_spectra_idxs = [i for i in range(len(peak_subformula_vectors)) if peak_subformula_vectors[i] is None]"
   ]
  },
  {
   "cell_type": "code",
   "execution_count": null,
   "id": "3478d080",
   "metadata": {},
   "outputs": [],
   "source": [
    "featurized_spectral_data, feature_vector_index_map = build_feature_matrix(peak_subformula_vectors, nl_subformula_vectors)"
   ]
  },
  {
   "cell_type": "code",
   "execution_count": null,
   "id": "43e05086",
   "metadata": {},
   "outputs": [],
   "source": [
    "featurized_spectral_data, feature_vector_index_map = feature_reduction(featurized_spectral_data, feature_vector_index_map)"
   ]
  },
  {
   "cell_type": "code",
   "execution_count": null,
   "id": "5ec95500",
   "metadata": {},
   "outputs": [],
   "source": []
  }
 ],
 "metadata": {
  "kernelspec": {
   "display_name": "Formula Featurization",
   "language": "python",
   "name": "form_feat"
  },
  "language_info": {
   "codemirror_mode": {
    "name": "ipython",
    "version": 3
   },
   "file_extension": ".py",
   "mimetype": "text/x-python",
   "name": "python",
   "nbconvert_exporter": "python",
   "pygments_lexer": "ipython3",
   "version": "3.12.8"
  }
 },
 "nbformat": 4,
 "nbformat_minor": 5
}
